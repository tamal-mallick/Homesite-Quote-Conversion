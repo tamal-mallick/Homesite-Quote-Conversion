{
  "nbformat": 4,
  "nbformat_minor": 0,
  "metadata": {
    "colab": {
      "name": "Copy of Copy of Copy of Asg_3_InsuranceFraud_AR_NEW.ipynb",
      "provenance": [],
      "collapsed_sections": []
    },
    "kernelspec": {
      "name": "python3",
      "display_name": "Python 3"
    }
  },
  "cells": [
    {
      "cell_type": "code",
      "metadata": {
        "id": "QcwQ5hdHdllC",
        "outputId": "c9a1ab5a-2496-4ee0-ff3a-32a1f685c710",
        "colab": {
          "base_uri": "https://localhost:8080/",
          "height": 235
        }
      },
      "source": [
        "!pip install vecstack"
      ],
      "execution_count": 2,
      "outputs": [
        {
          "output_type": "stream",
          "text": [
            "Collecting vecstack\n",
            "  Downloading https://files.pythonhosted.org/packages/d0/a1/b9a1e9e9e5a12078da1ab9788c7885e4c745358f7e57d5f94d9db6a4e898/vecstack-0.4.0.tar.gz\n",
            "Requirement already satisfied: numpy in /usr/local/lib/python3.6/dist-packages (from vecstack) (1.18.5)\n",
            "Requirement already satisfied: scipy in /usr/local/lib/python3.6/dist-packages (from vecstack) (1.4.1)\n",
            "Requirement already satisfied: scikit-learn>=0.18 in /usr/local/lib/python3.6/dist-packages (from vecstack) (0.22.2.post1)\n",
            "Requirement already satisfied: joblib>=0.11 in /usr/local/lib/python3.6/dist-packages (from scikit-learn>=0.18->vecstack) (0.16.0)\n",
            "Building wheels for collected packages: vecstack\n",
            "  Building wheel for vecstack (setup.py) ... \u001b[?25l\u001b[?25hdone\n",
            "  Created wheel for vecstack: filename=vecstack-0.4.0-cp36-none-any.whl size=19880 sha256=bc96d23bd0dfa039024298f7a15443282364a84e050542b85a7009ee5d579845\n",
            "  Stored in directory: /root/.cache/pip/wheels/5f/bb/4e/f6488433d53bc0684673d6845e5bf11a25240577c8151c140e\n",
            "Successfully built vecstack\n",
            "Installing collected packages: vecstack\n",
            "Successfully installed vecstack-0.4.0\n"
          ],
          "name": "stdout"
        }
      ]
    },
    {
      "cell_type": "code",
      "metadata": {
        "id": "eQqGDszCfMbu",
        "outputId": "994b011e-5163-4b21-9f0c-b8a6aa51c9d2",
        "colab": {
          "base_uri": "https://localhost:8080/",
          "height": 104
        }
      },
      "source": [
        "from vecstack import stacking\n",
        "import pandas as pd\n",
        "import numpy as np\n",
        "from sklearn.metrics import accuracy_score #works\n",
        "from sklearn.model_selection import train_test_split\n",
        "from sklearn.ensemble import RandomForestClassifier\n",
        "from sklearn.neural_network import MLPClassifier\n",
        "from sklearn.neighbors import KNeighborsClassifier\n",
        "from sklearn import svm\n",
        "from sklearn.tree import DecisionTreeClassifier\n",
        "from sklearn.model_selection import GridSearchCV\n",
        "from sklearn.model_selection import RandomizedSearchCV\n",
        "from sklearn.model_selection import cross_val_score\n",
        "from sklearn.metrics import classification_report, confusion_matrix\n",
        "from sklearn.ensemble import GradientBoostingClassifier\n",
        "from sklearn.neural_network import MLPClassifier\n",
        "#from sklearn.ensemble import RandomForestClassifier\n",
        "from imblearn.over_sampling import SMOTE \n",
        "from sklearn.linear_model import LogisticRegression\n",
        "from collections import Counter #for Smote, \n",
        "\n",
        "import warnings\n",
        "warnings.filterwarnings(\"ignore\")"
      ],
      "execution_count": 3,
      "outputs": [
        {
          "output_type": "stream",
          "text": [
            "/usr/local/lib/python3.6/dist-packages/sklearn/externals/six.py:31: FutureWarning: The module is deprecated in version 0.21 and will be removed in version 0.23 since we've dropped support for Python 2.7. Please rely on the official version of six (https://pypi.org/project/six/).\n",
            "  \"(https://pypi.org/project/six/).\", FutureWarning)\n",
            "/usr/local/lib/python3.6/dist-packages/sklearn/utils/deprecation.py:144: FutureWarning: The sklearn.neighbors.base module is  deprecated in version 0.22 and will be removed in version 0.24. The corresponding classes / functions should instead be imported from sklearn.neighbors. Anything that cannot be imported from sklearn.neighbors is now part of the private API.\n",
            "  warnings.warn(message, FutureWarning)\n"
          ],
          "name": "stderr"
        }
      ]
    },
    {
      "cell_type": "code",
      "metadata": {
        "id": "mc4OLFOj6su4",
        "outputId": "8b9f9dd2-4f5a-4b04-cda5-7ad81b532795",
        "colab": {
          "base_uri": "https://localhost:8080/",
          "height": 50
        }
      },
      "source": [
        "# To upload our datasets from our working directory we need to mount our drive contents to the colab environment. \n",
        "\n",
        "from google.colab import drive\n",
        "drive.mount('/gdrive')\n",
        "#Change current working directory to gdrive\n",
        "%cd /gdrive\n"
      ],
      "execution_count": 4,
      "outputs": [
        {
          "output_type": "stream",
          "text": [
            "Mounted at /gdrive\n",
            "/gdrive\n"
          ],
          "name": "stdout"
        }
      ]
    },
    {
      "cell_type": "code",
      "metadata": {
        "id": "1vyZX66TfUTt",
        "outputId": "4325a30e-f59d-41a1-e405-01ad9aaa473a",
        "colab": {
          "base_uri": "https://localhost:8080/",
          "height": 168
        }
      },
      "source": [
        "\n",
        "\n",
        "trainfile = r'/gdrive/My Drive/Assignment 3/RevisedHomesiteTrain.csv'\n",
        "train_data = pd.read_csv(trainfile)\n",
        "\n",
        "testfile = r'/gdrive/My Drive/Assignment 3/RevisedHomesiteTest.csv'\n",
        "test_data = pd.read_csv(testfile)\n",
        "\n",
        "print(train_data.shape)\n",
        "print(train_data.head()) \n",
        "\n"
      ],
      "execution_count": 7,
      "outputs": [
        {
          "output_type": "stream",
          "text": [
            "(65000, 596)\n",
            "   CoverageField11A  ...  QuoteConversion_Flag\n",
            "0                 2  ...                     0\n",
            "1                 5  ...                     0\n",
            "2                 4  ...                     0\n",
            "3                15  ...                     0\n",
            "4                 4  ...                     0\n",
            "\n",
            "[5 rows x 596 columns]\n"
          ],
          "name": "stdout"
        }
      ]
    },
    {
      "cell_type": "code",
      "metadata": {
        "id": "_VUhuQx6OhDU",
        "outputId": "f620670c-d2b5-49d0-d444-467eb11207a8",
        "colab": {
          "base_uri": "https://localhost:8080/",
          "height": 168
        }
      },
      "source": [
        "print(test_data.shape)\n",
        "print(test_data.head())"
      ],
      "execution_count": 8,
      "outputs": [
        {
          "output_type": "stream",
          "text": [
            "(173836, 596)\n",
            "   CoverageField11A  CoverageField11B  ...  GeographicField64_TX  GeographicField64\n",
            "0                13                22  ...                     0                 IL\n",
            "1                 4                 5  ...                     0                 NJ\n",
            "2                 3                 3  ...                     0                 NJ\n",
            "3                 5                 9  ...                     0                 TX\n",
            "4                12                21  ...                     0                 CA\n",
            "\n",
            "[5 rows x 596 columns]\n"
          ],
          "name": "stdout"
        }
      ]
    },
    {
      "cell_type": "code",
      "metadata": {
        "id": "JQt1yaXL_mq0",
        "outputId": "17bb21e0-4b55-4011-dd9a-2ad5c4b4af9b",
        "colab": {
          "base_uri": "https://localhost:8080/",
          "height": 84
        }
      },
      "source": [
        "train_cat_cols = train_data.select_dtypes(exclude=['float','int']).columns #selecting the categorical columns\n",
        "print(train_cat_cols.shape)\n",
        "print(train_cat_cols)\n",
        "test_cat_cols = test_data.select_dtypes(exclude=['float','int']).columns #selecting the categorical columns\n",
        "print(test_cat_cols.shape)\n",
        "print(test_cat_cols)"
      ],
      "execution_count": 9,
      "outputs": [
        {
          "output_type": "stream",
          "text": [
            "(0,)\n",
            "Index([], dtype='object')\n",
            "(1,)\n",
            "Index(['GeographicField64'], dtype='object')\n"
          ],
          "name": "stdout"
        }
      ]
    },
    {
      "cell_type": "code",
      "metadata": {
        "id": "JXOtyIGylUqq"
      },
      "source": [
        "test_data=test_data.drop(columns=[\"GeographicField64\"])"
      ],
      "execution_count": 10,
      "outputs": []
    },
    {
      "cell_type": "code",
      "metadata": {
        "id": "zPYT5J6EuSEV",
        "outputId": "ee3a1529-f18e-48ef-bd55-70a057e7c137",
        "colab": {
          "base_uri": "https://localhost:8080/",
          "height": 218
        }
      },
      "source": [
        "train_data.isnull().sum()\n"
      ],
      "execution_count": 14,
      "outputs": [
        {
          "output_type": "execute_result",
          "data": {
            "text/plain": [
              "CoverageField11A        0\n",
              "CoverageField11B        0\n",
              "CoverageField1A         0\n",
              "CoverageField1B         0\n",
              "CoverageField2A         0\n",
              "                       ..\n",
              "GeographicField64_CA    0\n",
              "GeographicField64_IL    0\n",
              "GeographicField64_NJ    0\n",
              "GeographicField64_TX    0\n",
              "QuoteConversion_Flag    0\n",
              "Length: 596, dtype: int64"
            ]
          },
          "metadata": {
            "tags": []
          },
          "execution_count": 14
        }
      ]
    },
    {
      "cell_type": "code",
      "metadata": {
        "id": "KzEKN9t1QjP8",
        "outputId": "5e44bc8a-1a71-4569-9802-e780c6b67da7",
        "colab": {
          "base_uri": "https://localhost:8080/",
          "height": 218
        }
      },
      "source": [
        "test_data.isnull().sum()"
      ],
      "execution_count": 15,
      "outputs": [
        {
          "output_type": "execute_result",
          "data": {
            "text/plain": [
              "CoverageField11A        0\n",
              "CoverageField11B        0\n",
              "CoverageField1A         0\n",
              "CoverageField1B         0\n",
              "CoverageField2A         0\n",
              "                       ..\n",
              "GeographicField63_Y     0\n",
              "GeographicField64_CA    0\n",
              "GeographicField64_IL    0\n",
              "GeographicField64_NJ    0\n",
              "GeographicField64_TX    0\n",
              "Length: 595, dtype: int64"
            ]
          },
          "metadata": {
            "tags": []
          },
          "execution_count": 15
        }
      ]
    },
    {
      "cell_type": "code",
      "metadata": {
        "id": "OUBE7LTNfccW",
        "outputId": "df8e2f97-a861-435e-810f-3b2465669279",
        "colab": {
          "base_uri": "https://localhost:8080/",
          "height": 67
        }
      },
      "source": [
        "\n",
        "#Set dependent and independent variables\n",
        "#Select dependent variables Column\n",
        "X_train = train_data.iloc[:, :-1]\n",
        "X_test = test_data.iloc[:, :]\n",
        "\n",
        "\n",
        "#Select just Target Column\n",
        "y_train = train_data.iloc[:, -1]\n",
        "\n",
        "\n",
        "print(X_train.shape)\n",
        "print(X_test.shape) \n",
        "\n",
        "print(y_train.shape)\n"
      ],
      "execution_count": 17,
      "outputs": [
        {
          "output_type": "stream",
          "text": [
            "(65000, 595)\n",
            "(173836, 595)\n",
            "(65000,)\n"
          ],
          "name": "stdout"
        }
      ]
    },
    {
      "cell_type": "code",
      "metadata": {
        "id": "bP9zM1ZUvcaj",
        "outputId": "097e39c5-bfb0-49cb-a4a0-af29c9b7d9a1",
        "colab": {
          "base_uri": "https://localhost:8080/",
          "height": 151
        }
      },
      "source": [
        "print(train_data.head()) "
      ],
      "execution_count": 18,
      "outputs": [
        {
          "output_type": "stream",
          "text": [
            "   CoverageField11A  ...  QuoteConversion_Flag\n",
            "0                 2  ...                     0\n",
            "1                 5  ...                     0\n",
            "2                 4  ...                     0\n",
            "3                15  ...                     0\n",
            "4                 4  ...                     0\n",
            "\n",
            "[5 rows x 596 columns]\n"
          ],
          "name": "stdout"
        }
      ]
    },
    {
      "cell_type": "code",
      "metadata": {
        "id": "ouSzZTRsfnqO"
      },
      "source": [
        "#CONSTRUCT DEFAULT DECISION TREE AND OBTAIN RESPECTIVE ACCURACY ==================\n",
        "clf = DecisionTreeClassifier()\n",
        "clf.fit(X_train, y_train)\n",
        "clf_predict=clf.predict(X_test)\n",
        "\n"
      ],
      "execution_count": 19,
      "outputs": []
    },
    {
      "cell_type": "code",
      "metadata": {
        "id": "WSOcA5jQ7vhM",
        "outputId": "1ace4990-6894-4443-f49b-376ecfc0f768",
        "colab": {
          "base_uri": "https://localhost:8080/",
          "height": 195
        }
      },
      "source": [
        "#Testset prediction======================================================================\n",
        "#Get Class Prediction as a data frame with header as Prediction\n",
        "pred_DT=pd.DataFrame(clf.predict(X_test),columns=[\"Prediction\"] )\n",
        "\n",
        "pred_DT.head()"
      ],
      "execution_count": 13,
      "outputs": [
        {
          "output_type": "execute_result",
          "data": {
            "text/html": [
              "<div>\n",
              "<style scoped>\n",
              "    .dataframe tbody tr th:only-of-type {\n",
              "        vertical-align: middle;\n",
              "    }\n",
              "\n",
              "    .dataframe tbody tr th {\n",
              "        vertical-align: top;\n",
              "    }\n",
              "\n",
              "    .dataframe thead th {\n",
              "        text-align: right;\n",
              "    }\n",
              "</style>\n",
              "<table border=\"1\" class=\"dataframe\">\n",
              "  <thead>\n",
              "    <tr style=\"text-align: right;\">\n",
              "      <th></th>\n",
              "      <th>Prediction</th>\n",
              "    </tr>\n",
              "  </thead>\n",
              "  <tbody>\n",
              "    <tr>\n",
              "      <th>0</th>\n",
              "      <td>0</td>\n",
              "    </tr>\n",
              "    <tr>\n",
              "      <th>1</th>\n",
              "      <td>1</td>\n",
              "    </tr>\n",
              "    <tr>\n",
              "      <th>2</th>\n",
              "      <td>0</td>\n",
              "    </tr>\n",
              "    <tr>\n",
              "      <th>3</th>\n",
              "      <td>0</td>\n",
              "    </tr>\n",
              "    <tr>\n",
              "      <th>4</th>\n",
              "      <td>1</td>\n",
              "    </tr>\n",
              "  </tbody>\n",
              "</table>\n",
              "</div>"
            ],
            "text/plain": [
              "   Prediction\n",
              "0           0\n",
              "1           1\n",
              "2           0\n",
              "3           0\n",
              "4           1"
            ]
          },
          "metadata": {
            "tags": []
          },
          "execution_count": 13
        }
      ]
    },
    {
      "cell_type": "code",
      "metadata": {
        "id": "LsCnHT5p7tZN",
        "outputId": "862829e3-c9a8-48b9-801b-3c52cec03337",
        "colab": {
          "base_uri": "https://localhost:8080/",
          "height": 195
        }
      },
      "source": [
        "#Get Class Prediction probabilities as a data frame \n",
        "#Get Prediction Probability for the predicted class as a dataframe\n",
        "pred_DT_Probability =pd.DataFrame(clf.predict_proba(X_test))\n",
        "\n",
        "pred_DT_Probability.head()"
      ],
      "execution_count": null,
      "outputs": [
        {
          "output_type": "execute_result",
          "data": {
            "text/html": [
              "<div>\n",
              "<style scoped>\n",
              "    .dataframe tbody tr th:only-of-type {\n",
              "        vertical-align: middle;\n",
              "    }\n",
              "\n",
              "    .dataframe tbody tr th {\n",
              "        vertical-align: top;\n",
              "    }\n",
              "\n",
              "    .dataframe thead th {\n",
              "        text-align: right;\n",
              "    }\n",
              "</style>\n",
              "<table border=\"1\" class=\"dataframe\">\n",
              "  <thead>\n",
              "    <tr style=\"text-align: right;\">\n",
              "      <th></th>\n",
              "      <th>0</th>\n",
              "      <th>1</th>\n",
              "    </tr>\n",
              "  </thead>\n",
              "  <tbody>\n",
              "    <tr>\n",
              "      <th>0</th>\n",
              "      <td>1.0</td>\n",
              "      <td>0.0</td>\n",
              "    </tr>\n",
              "    <tr>\n",
              "      <th>1</th>\n",
              "      <td>1.0</td>\n",
              "      <td>0.0</td>\n",
              "    </tr>\n",
              "    <tr>\n",
              "      <th>2</th>\n",
              "      <td>1.0</td>\n",
              "      <td>0.0</td>\n",
              "    </tr>\n",
              "    <tr>\n",
              "      <th>3</th>\n",
              "      <td>1.0</td>\n",
              "      <td>0.0</td>\n",
              "    </tr>\n",
              "    <tr>\n",
              "      <th>4</th>\n",
              "      <td>0.0</td>\n",
              "      <td>1.0</td>\n",
              "    </tr>\n",
              "  </tbody>\n",
              "</table>\n",
              "</div>"
            ],
            "text/plain": [
              "     0    1\n",
              "0  1.0  0.0\n",
              "1  1.0  0.0\n",
              "2  1.0  0.0\n",
              "3  1.0  0.0\n",
              "4  0.0  1.0"
            ]
          },
          "metadata": {
            "tags": []
          },
          "execution_count": 31
        }
      ]
    },
    {
      "cell_type": "code",
      "metadata": {
        "id": "pona9_zo7LQ8",
        "outputId": "298ae484-5de0-4f50-cc00-ff0badca4a46",
        "colab": {
          "base_uri": "https://localhost:8080/",
          "height": 195
        }
      },
      "source": [
        "#Write into a file with actual prediction and corresponding probability\n",
        "pd.concat([pred_DT,pred_DT],axis=1).to_csv(\"/gdrive/My Drive/Assignment 3/DT_results.csv\", index = None)\n",
        "\n",
        "res=pd.read_csv('/gdrive/My Drive/Assignment 3/DT_results.csv')\n",
        "res.head()"
      ],
      "execution_count": null,
      "outputs": [
        {
          "output_type": "execute_result",
          "data": {
            "text/html": [
              "<div>\n",
              "<style scoped>\n",
              "    .dataframe tbody tr th:only-of-type {\n",
              "        vertical-align: middle;\n",
              "    }\n",
              "\n",
              "    .dataframe tbody tr th {\n",
              "        vertical-align: top;\n",
              "    }\n",
              "\n",
              "    .dataframe thead th {\n",
              "        text-align: right;\n",
              "    }\n",
              "</style>\n",
              "<table border=\"1\" class=\"dataframe\">\n",
              "  <thead>\n",
              "    <tr style=\"text-align: right;\">\n",
              "      <th></th>\n",
              "      <th>Prediction</th>\n",
              "      <th>Prediction.1</th>\n",
              "    </tr>\n",
              "  </thead>\n",
              "  <tbody>\n",
              "    <tr>\n",
              "      <th>0</th>\n",
              "      <td>0</td>\n",
              "      <td>0</td>\n",
              "    </tr>\n",
              "    <tr>\n",
              "      <th>1</th>\n",
              "      <td>0</td>\n",
              "      <td>0</td>\n",
              "    </tr>\n",
              "    <tr>\n",
              "      <th>2</th>\n",
              "      <td>0</td>\n",
              "      <td>0</td>\n",
              "    </tr>\n",
              "    <tr>\n",
              "      <th>3</th>\n",
              "      <td>0</td>\n",
              "      <td>0</td>\n",
              "    </tr>\n",
              "    <tr>\n",
              "      <th>4</th>\n",
              "      <td>1</td>\n",
              "      <td>1</td>\n",
              "    </tr>\n",
              "  </tbody>\n",
              "</table>\n",
              "</div>"
            ],
            "text/plain": [
              "   Prediction  Prediction.1\n",
              "0           0             0\n",
              "1           0             0\n",
              "2           0             0\n",
              "3           0             0\n",
              "4           1             1"
            ]
          },
          "metadata": {
            "tags": []
          },
          "execution_count": 42
        }
      ]
    },
    {
      "cell_type": "code",
      "metadata": {
        "id": "cuhgy0RcseYE"
      },
      "source": [
        "#Random Forest =============================================================\n",
        "#Default mode\n",
        "rfc = RandomForestClassifier()\n",
        "rfc.fit(X_train, y_train)\n",
        "rfc_predict=rfc.predict(X_test)\n"
      ],
      "execution_count": 16,
      "outputs": []
    },
    {
      "cell_type": "code",
      "metadata": {
        "id": "M1jy3-PkAgUk",
        "outputId": "fd851f53-bcff-421e-f278-4b8c53dff034",
        "colab": {
          "base_uri": "https://localhost:8080/",
          "height": 195
        }
      },
      "source": [
        "#Testset prediction======================================================================\n",
        "#Get Class Prediction as a data frame with header as Prediction\n",
        "pred_RF=pd.DataFrame(rfc.predict(X_test),columns=[\"Prediction\"] )\n",
        "\n",
        "pred_RF.head()"
      ],
      "execution_count": null,
      "outputs": [
        {
          "output_type": "execute_result",
          "data": {
            "text/html": [
              "<div>\n",
              "<style scoped>\n",
              "    .dataframe tbody tr th:only-of-type {\n",
              "        vertical-align: middle;\n",
              "    }\n",
              "\n",
              "    .dataframe tbody tr th {\n",
              "        vertical-align: top;\n",
              "    }\n",
              "\n",
              "    .dataframe thead th {\n",
              "        text-align: right;\n",
              "    }\n",
              "</style>\n",
              "<table border=\"1\" class=\"dataframe\">\n",
              "  <thead>\n",
              "    <tr style=\"text-align: right;\">\n",
              "      <th></th>\n",
              "      <th>Prediction</th>\n",
              "    </tr>\n",
              "  </thead>\n",
              "  <tbody>\n",
              "    <tr>\n",
              "      <th>0</th>\n",
              "      <td>0</td>\n",
              "    </tr>\n",
              "    <tr>\n",
              "      <th>1</th>\n",
              "      <td>0</td>\n",
              "    </tr>\n",
              "    <tr>\n",
              "      <th>2</th>\n",
              "      <td>0</td>\n",
              "    </tr>\n",
              "    <tr>\n",
              "      <th>3</th>\n",
              "      <td>0</td>\n",
              "    </tr>\n",
              "    <tr>\n",
              "      <th>4</th>\n",
              "      <td>0</td>\n",
              "    </tr>\n",
              "  </tbody>\n",
              "</table>\n",
              "</div>"
            ],
            "text/plain": [
              "   Prediction\n",
              "0           0\n",
              "1           0\n",
              "2           0\n",
              "3           0\n",
              "4           0"
            ]
          },
          "metadata": {
            "tags": []
          },
          "execution_count": 36
        }
      ]
    },
    {
      "cell_type": "code",
      "metadata": {
        "id": "lnNGspQtAlvw",
        "outputId": "b930c205-a29c-43b4-b9b6-6ae55bcc3208",
        "colab": {
          "base_uri": "https://localhost:8080/",
          "height": 195
        }
      },
      "source": [
        "\n",
        "pred_RF.head()\n",
        "#Get Class Prediction probabilities as a data frame \n",
        "#Get Prediction Probability for the predicted class as a dataframe\n",
        "pred_RF_Probability =pd.DataFrame(rfc.predict_proba(X_test))\n",
        "\n",
        "pred_RF_Probability.head()"
      ],
      "execution_count": null,
      "outputs": [
        {
          "output_type": "execute_result",
          "data": {
            "text/html": [
              "<div>\n",
              "<style scoped>\n",
              "    .dataframe tbody tr th:only-of-type {\n",
              "        vertical-align: middle;\n",
              "    }\n",
              "\n",
              "    .dataframe tbody tr th {\n",
              "        vertical-align: top;\n",
              "    }\n",
              "\n",
              "    .dataframe thead th {\n",
              "        text-align: right;\n",
              "    }\n",
              "</style>\n",
              "<table border=\"1\" class=\"dataframe\">\n",
              "  <thead>\n",
              "    <tr style=\"text-align: right;\">\n",
              "      <th></th>\n",
              "      <th>0</th>\n",
              "      <th>1</th>\n",
              "    </tr>\n",
              "  </thead>\n",
              "  <tbody>\n",
              "    <tr>\n",
              "      <th>0</th>\n",
              "      <td>0.99</td>\n",
              "      <td>0.01</td>\n",
              "    </tr>\n",
              "    <tr>\n",
              "      <th>1</th>\n",
              "      <td>0.91</td>\n",
              "      <td>0.09</td>\n",
              "    </tr>\n",
              "    <tr>\n",
              "      <th>2</th>\n",
              "      <td>0.92</td>\n",
              "      <td>0.08</td>\n",
              "    </tr>\n",
              "    <tr>\n",
              "      <th>3</th>\n",
              "      <td>0.97</td>\n",
              "      <td>0.03</td>\n",
              "    </tr>\n",
              "    <tr>\n",
              "      <th>4</th>\n",
              "      <td>0.76</td>\n",
              "      <td>0.24</td>\n",
              "    </tr>\n",
              "  </tbody>\n",
              "</table>\n",
              "</div>"
            ],
            "text/plain": [
              "      0     1\n",
              "0  0.99  0.01\n",
              "1  0.91  0.09\n",
              "2  0.92  0.08\n",
              "3  0.97  0.03\n",
              "4  0.76  0.24"
            ]
          },
          "metadata": {
            "tags": []
          },
          "execution_count": 37
        }
      ]
    },
    {
      "cell_type": "code",
      "metadata": {
        "id": "oQrIlQIJAulM",
        "outputId": "eb81de57-80fb-4601-b5a0-cd851758f578",
        "colab": {
          "base_uri": "https://localhost:8080/",
          "height": 195
        }
      },
      "source": [
        "\n",
        "pred_RF_Probability.head()\n",
        "#Write into a file with actual prediction and corresponding probability\n",
        "pd.concat([pred_RF,pred_RF_Probability],axis=1).to_csv(\"/gdrive/My Drive/Assignment 3/RF_results.csv\", index = None)\n",
        "\n",
        "res=pd.read_csv('/gdrive/My Drive/Assignment 3/RF_results.csv')\n",
        "res.head()"
      ],
      "execution_count": null,
      "outputs": [
        {
          "output_type": "execute_result",
          "data": {
            "text/html": [
              "<div>\n",
              "<style scoped>\n",
              "    .dataframe tbody tr th:only-of-type {\n",
              "        vertical-align: middle;\n",
              "    }\n",
              "\n",
              "    .dataframe tbody tr th {\n",
              "        vertical-align: top;\n",
              "    }\n",
              "\n",
              "    .dataframe thead th {\n",
              "        text-align: right;\n",
              "    }\n",
              "</style>\n",
              "<table border=\"1\" class=\"dataframe\">\n",
              "  <thead>\n",
              "    <tr style=\"text-align: right;\">\n",
              "      <th></th>\n",
              "      <th>Prediction</th>\n",
              "      <th>0</th>\n",
              "      <th>1</th>\n",
              "    </tr>\n",
              "  </thead>\n",
              "  <tbody>\n",
              "    <tr>\n",
              "      <th>0</th>\n",
              "      <td>0</td>\n",
              "      <td>0.99</td>\n",
              "      <td>0.01</td>\n",
              "    </tr>\n",
              "    <tr>\n",
              "      <th>1</th>\n",
              "      <td>0</td>\n",
              "      <td>0.91</td>\n",
              "      <td>0.09</td>\n",
              "    </tr>\n",
              "    <tr>\n",
              "      <th>2</th>\n",
              "      <td>0</td>\n",
              "      <td>0.92</td>\n",
              "      <td>0.08</td>\n",
              "    </tr>\n",
              "    <tr>\n",
              "      <th>3</th>\n",
              "      <td>0</td>\n",
              "      <td>0.97</td>\n",
              "      <td>0.03</td>\n",
              "    </tr>\n",
              "    <tr>\n",
              "      <th>4</th>\n",
              "      <td>0</td>\n",
              "      <td>0.76</td>\n",
              "      <td>0.24</td>\n",
              "    </tr>\n",
              "  </tbody>\n",
              "</table>\n",
              "</div>"
            ],
            "text/plain": [
              "   Prediction     0     1\n",
              "0           0  0.99  0.01\n",
              "1           0  0.91  0.09\n",
              "2           0  0.92  0.08\n",
              "3           0  0.97  0.03\n",
              "4           0  0.76  0.24"
            ]
          },
          "metadata": {
            "tags": []
          },
          "execution_count": 43
        }
      ]
    },
    {
      "cell_type": "code",
      "metadata": {
        "id": "U08QwBIOvvLv"
      },
      "source": [
        "#Gradient Boosting ============================================================\n",
        "abc =GradientBoostingClassifier()\n",
        "abc.fit(X_train, y_train)\n",
        "abc_predict=abc.predict(X_test)\n"
      ],
      "execution_count": 34,
      "outputs": []
    },
    {
      "cell_type": "code",
      "metadata": {
        "id": "91eLALAohcl0",
        "outputId": "f9ef51ef-f1f4-4e41-9ffb-e7ff23f8aa66",
        "colab": {
          "base_uri": "https://localhost:8080/",
          "height": 195
        }
      },
      "source": [
        "#Testset prediction======================================================================\n",
        "#Get Class Prediction as a data frame with header as Prediction\n",
        "pred_abc=pd.DataFrame(abc.predict(X_test),columns=[\"Prediction\"] )\n",
        "\n",
        "#Get Class Prediction probabilities as a data frame \n",
        "#Get Prediction Probability for the predicted class as a dataframe\n",
        "pred_abc_Probability =pd.DataFrame(abc.predict_proba(X_test))\n",
        "\n",
        "#Write into a file with actual prediction and corresponding probability\n",
        "pd.concat([pred_abc,pred_abc_Probability],axis=1).to_csv(\"/gdrive/My Drive/Assignment 3/GB_results.csv\", index = None)\n",
        "\n",
        "res=pd.read_csv('/gdrive/My Drive/Assignment 3/GB_results.csv')\n",
        "res.head()\n"
      ],
      "execution_count": 35,
      "outputs": [
        {
          "output_type": "execute_result",
          "data": {
            "text/html": [
              "<div>\n",
              "<style scoped>\n",
              "    .dataframe tbody tr th:only-of-type {\n",
              "        vertical-align: middle;\n",
              "    }\n",
              "\n",
              "    .dataframe tbody tr th {\n",
              "        vertical-align: top;\n",
              "    }\n",
              "\n",
              "    .dataframe thead th {\n",
              "        text-align: right;\n",
              "    }\n",
              "</style>\n",
              "<table border=\"1\" class=\"dataframe\">\n",
              "  <thead>\n",
              "    <tr style=\"text-align: right;\">\n",
              "      <th></th>\n",
              "      <th>Prediction</th>\n",
              "      <th>0</th>\n",
              "      <th>1</th>\n",
              "    </tr>\n",
              "  </thead>\n",
              "  <tbody>\n",
              "    <tr>\n",
              "      <th>0</th>\n",
              "      <td>0</td>\n",
              "      <td>0.988995</td>\n",
              "      <td>0.011005</td>\n",
              "    </tr>\n",
              "    <tr>\n",
              "      <th>1</th>\n",
              "      <td>0</td>\n",
              "      <td>0.938972</td>\n",
              "      <td>0.061028</td>\n",
              "    </tr>\n",
              "    <tr>\n",
              "      <th>2</th>\n",
              "      <td>0</td>\n",
              "      <td>0.940773</td>\n",
              "      <td>0.059227</td>\n",
              "    </tr>\n",
              "    <tr>\n",
              "      <th>3</th>\n",
              "      <td>0</td>\n",
              "      <td>0.961426</td>\n",
              "      <td>0.038574</td>\n",
              "    </tr>\n",
              "    <tr>\n",
              "      <th>4</th>\n",
              "      <td>0</td>\n",
              "      <td>0.817220</td>\n",
              "      <td>0.182780</td>\n",
              "    </tr>\n",
              "  </tbody>\n",
              "</table>\n",
              "</div>"
            ],
            "text/plain": [
              "   Prediction         0         1\n",
              "0           0  0.988995  0.011005\n",
              "1           0  0.938972  0.061028\n",
              "2           0  0.940773  0.059227\n",
              "3           0  0.961426  0.038574\n",
              "4           0  0.817220  0.182780"
            ]
          },
          "metadata": {
            "tags": []
          },
          "execution_count": 35
        }
      ]
    },
    {
      "cell_type": "code",
      "metadata": {
        "id": "h7mdzPWWEPRV"
      },
      "source": [
        "#Construct K-nearest Neighbour classifier \n",
        "# Default mode\n",
        "knn = KNeighborsClassifier()\n",
        "knn.fit(X_train, y_train)\n",
        "knn_predict=knn.predict(X_test)"
      ],
      "execution_count": 29,
      "outputs": []
    },
    {
      "cell_type": "code",
      "metadata": {
        "id": "J2RWl5S2XvmR",
        "outputId": "d8ed6bf7-c022-4a16-c690-c3d7e4ca4bc9",
        "colab": {
          "base_uri": "https://localhost:8080/",
          "height": 195
        }
      },
      "source": [
        "#Testset prediction======================================================================\n",
        "#Get Class Prediction as a data frame with header as Prediction\n",
        "pred_knn=pd.DataFrame(knn.predict(X_test),columns=[\"Prediction\"] )\n",
        "\n",
        "\n",
        "#Get Class Prediction probabilities as a data frame \n",
        "#Get Prediction Probability for the predicted class as a dataframe\n",
        "pred_knn_Probability =pd.DataFrame(knn.predict_proba(X_test))\n",
        "\n",
        "#Write into a file with actual prediction and corresponding probability\n",
        "pd.concat([pred_knn,pred_knn_Probability],axis=1).to_csv(\"/gdrive/My Drive/Assignment 3/KNN_results.csv\", index = None)\n",
        "\n",
        "res=pd.read_csv('/gdrive/My Drive/Assignment 3/KNN_results.csv')\n",
        "res.head()"
      ],
      "execution_count": null,
      "outputs": [
        {
          "output_type": "execute_result",
          "data": {
            "text/html": [
              "<div>\n",
              "<style scoped>\n",
              "    .dataframe tbody tr th:only-of-type {\n",
              "        vertical-align: middle;\n",
              "    }\n",
              "\n",
              "    .dataframe tbody tr th {\n",
              "        vertical-align: top;\n",
              "    }\n",
              "\n",
              "    .dataframe thead th {\n",
              "        text-align: right;\n",
              "    }\n",
              "</style>\n",
              "<table border=\"1\" class=\"dataframe\">\n",
              "  <thead>\n",
              "    <tr style=\"text-align: right;\">\n",
              "      <th></th>\n",
              "      <th>Prediction</th>\n",
              "      <th>0</th>\n",
              "      <th>1</th>\n",
              "    </tr>\n",
              "  </thead>\n",
              "  <tbody>\n",
              "    <tr>\n",
              "      <th>0</th>\n",
              "      <td>0</td>\n",
              "      <td>0.8</td>\n",
              "      <td>0.2</td>\n",
              "    </tr>\n",
              "    <tr>\n",
              "      <th>1</th>\n",
              "      <td>0</td>\n",
              "      <td>0.8</td>\n",
              "      <td>0.2</td>\n",
              "    </tr>\n",
              "    <tr>\n",
              "      <th>2</th>\n",
              "      <td>0</td>\n",
              "      <td>0.6</td>\n",
              "      <td>0.4</td>\n",
              "    </tr>\n",
              "    <tr>\n",
              "      <th>3</th>\n",
              "      <td>0</td>\n",
              "      <td>1.0</td>\n",
              "      <td>0.0</td>\n",
              "    </tr>\n",
              "    <tr>\n",
              "      <th>4</th>\n",
              "      <td>0</td>\n",
              "      <td>0.6</td>\n",
              "      <td>0.4</td>\n",
              "    </tr>\n",
              "  </tbody>\n",
              "</table>\n",
              "</div>"
            ],
            "text/plain": [
              "   Prediction    0    1\n",
              "0           0  0.8  0.2\n",
              "1           0  0.8  0.2\n",
              "2           0  0.6  0.4\n",
              "3           0  1.0  0.0\n",
              "4           0  0.6  0.4"
            ]
          },
          "metadata": {
            "tags": []
          },
          "execution_count": 12
        }
      ]
    },
    {
      "cell_type": "code",
      "metadata": {
        "id": "f4vvV6xmrjNj"
      },
      "source": [
        "#Construct Logistic regression classifier \n",
        "lgrg = LogisticRegression()\n",
        "lgrg.fit(X_train, y_train)\n",
        "lgrg_predict=lgrg.predict(X_test)"
      ],
      "execution_count": 33,
      "outputs": []
    },
    {
      "cell_type": "code",
      "metadata": {
        "id": "FODijsRKyCl3",
        "outputId": "780bdaea-1a47-464a-f5d7-82c5fb023da2",
        "colab": {
          "base_uri": "https://localhost:8080/",
          "height": 195
        }
      },
      "source": [
        "#Testset prediction======================================================================\n",
        "#Get Class Prediction as a data frame with header as Prediction\n",
        "pred_lgrg=pd.DataFrame(lgrg.predict(X_test),columns=[\"Prediction\"] )\n",
        "\n",
        "\n",
        "#Get Class Prediction probabilities as a data frame \n",
        "#Get Prediction Probability for the predicted class as a dataframe\n",
        "pred_lgrg_Probability =pd.DataFrame(lgrg.predict_proba(X_test))\n",
        "\n",
        "#Write into a file with actual prediction and corresponding probability\n",
        "pd.concat([pred_lgrg,pred_lgrg_Probability],axis=1).to_csv(\"/gdrive/My Drive/Assignment 3/LogReg_results.csv\", index = None)\n",
        "\n",
        "res=pd.read_csv('/gdrive/My Drive/Assignment 3/LogReg_results.csv')\n",
        "res.head()"
      ],
      "execution_count": 37,
      "outputs": [
        {
          "output_type": "execute_result",
          "data": {
            "text/html": [
              "<div>\n",
              "<style scoped>\n",
              "    .dataframe tbody tr th:only-of-type {\n",
              "        vertical-align: middle;\n",
              "    }\n",
              "\n",
              "    .dataframe tbody tr th {\n",
              "        vertical-align: top;\n",
              "    }\n",
              "\n",
              "    .dataframe thead th {\n",
              "        text-align: right;\n",
              "    }\n",
              "</style>\n",
              "<table border=\"1\" class=\"dataframe\">\n",
              "  <thead>\n",
              "    <tr style=\"text-align: right;\">\n",
              "      <th></th>\n",
              "      <th>Prediction</th>\n",
              "      <th>0</th>\n",
              "      <th>1</th>\n",
              "    </tr>\n",
              "  </thead>\n",
              "  <tbody>\n",
              "    <tr>\n",
              "      <th>0</th>\n",
              "      <td>0</td>\n",
              "      <td>0.928384</td>\n",
              "      <td>0.071616</td>\n",
              "    </tr>\n",
              "    <tr>\n",
              "      <th>1</th>\n",
              "      <td>0</td>\n",
              "      <td>0.776517</td>\n",
              "      <td>0.223483</td>\n",
              "    </tr>\n",
              "    <tr>\n",
              "      <th>2</th>\n",
              "      <td>0</td>\n",
              "      <td>0.763161</td>\n",
              "      <td>0.236839</td>\n",
              "    </tr>\n",
              "    <tr>\n",
              "      <th>3</th>\n",
              "      <td>0</td>\n",
              "      <td>0.975103</td>\n",
              "      <td>0.024897</td>\n",
              "    </tr>\n",
              "    <tr>\n",
              "      <th>4</th>\n",
              "      <td>0</td>\n",
              "      <td>0.797787</td>\n",
              "      <td>0.202213</td>\n",
              "    </tr>\n",
              "  </tbody>\n",
              "</table>\n",
              "</div>"
            ],
            "text/plain": [
              "   Prediction         0         1\n",
              "0           0  0.928384  0.071616\n",
              "1           0  0.776517  0.223483\n",
              "2           0  0.763161  0.236839\n",
              "3           0  0.975103  0.024897\n",
              "4           0  0.797787  0.202213"
            ]
          },
          "metadata": {
            "tags": []
          },
          "execution_count": 37
        }
      ]
    },
    {
      "cell_type": "code",
      "metadata": {
        "id": "85irbP-aLlPb"
      },
      "source": [
        "#Construct Multilayer Perceptron using the best parameters\n",
        "#Default mode\n",
        "mlp = MLPClassifier()\n",
        "mlp.fit(X_train, y_train)\n",
        "mlp_predict=mlp.predict(X_test)"
      ],
      "execution_count": null,
      "outputs": []
    },
    {
      "cell_type": "code",
      "metadata": {
        "id": "eCXJg17aLm3k"
      },
      "source": [
        "#Testset prediction======================================================================\n",
        "#Get Class Prediction as a data frame with header as Prediction\n",
        "pred_mlp=pd.DataFrame(mlp.predict(X_test),columns=[\"Prediction\"] )\n",
        "\n",
        "pred_mlp.head()\n",
        "\n",
        "#Get Class Prediction probabilities as a data frame \n",
        "#Get Prediction Probability for the predicted class as a dataframe\n",
        "pred_mlp_Probability =pd.DataFrame(mlp.predict_proba(X_test))\n",
        "\n",
        "pred_mlp_Probability.head()\n",
        "#Write into a file with actual prediction and corresponding probability\n",
        "pd.concat([pred_mlp,pred_mlp_Probability],axis=1).to_csv(\"/gdrive/My Drive/Assignment 3/MLP_results.csv\", index = None)\n",
        "\n",
        "res=pd.read_csv('/gdrive/My Drive/Assignment 3/MLP_results.csv')\n",
        "res.head()"
      ],
      "execution_count": null,
      "outputs": []
    },
    {
      "cell_type": "code",
      "metadata": {
        "id": "xFo5nygFLVab"
      },
      "source": [
        "#Construct Support Vector Machines using the best parameters\n",
        "#Default mode\n",
        "svc = svm.SVC()\n",
        "svc.fit(X_train, y_train)\n",
        "svc_predict=svc.predict(X_test)\n"
      ],
      "execution_count": null,
      "outputs": []
    },
    {
      "cell_type": "code",
      "metadata": {
        "id": "Pm7IODUwLc1V"
      },
      "source": [
        "model_svc = LinearSVC()\n",
        "m_svm = CalibratedClassifierCV(model_svc) \n",
        "m_svm.fit(X_train, y_train)\n",
        "m_svm_predict=m_svm.predict(X_test)"
      ],
      "execution_count": null,
      "outputs": []
    },
    {
      "cell_type": "code",
      "metadata": {
        "id": "6GThGi7hLfM1"
      },
      "source": [
        "#Testset prediction======================================================================\n",
        "#Get Class Prediction as a data frame with header as Prediction\n",
        "pred_svc=pd.DataFrame(m_svm.predict(X_test),columns=[\"Prediction\"] )\n",
        "\n",
        "\n",
        "#Get Class Prediction probabilities as a data frame \n",
        "#Get Prediction Probability for the predicted class as a dataframe\n",
        "pred_svc_Probability =pd.DataFrame(m_svm.predict_proba(X_test))\n",
        "\n",
        "\n",
        "#Write into a file with actual prediction and corresponding probability\n",
        "pd.concat([pred_svc,pred_svc_Probability],axis=1).to_csv(\"/gdrive/My Drive/Assignment 3/SVM_results.csv\", index = None)\n",
        "\n",
        "res=pd.read_csv('/gdrive/My Drive/Assignment 3/SVM_results.csv')\n",
        "res.head()"
      ],
      "execution_count": null,
      "outputs": []
    },
    {
      "cell_type": "code",
      "metadata": {
        "id": "w9pdjPGfh2_T",
        "outputId": "f43a9f62-9ccc-4665-83d9-44b145b22106",
        "colab": {
          "base_uri": "https://localhost:8080/",
          "height": 101
        }
      },
      "source": [
        "#SMOTE==============================================================================\n",
        "print(\"___________________________________________________________________\\nSMOTE\\n\")\n",
        "print('Original dataset shape %s' % Counter(y_train))\n",
        "sm = SMOTE(sampling_strategy='float', ratio=0.5)\n",
        "X_res, y_res = sm.fit_resample(X_train, y_train)\n",
        "print('Resampled dataset shape %s' % Counter(y_res))"
      ],
      "execution_count": 20,
      "outputs": [
        {
          "output_type": "stream",
          "text": [
            "___________________________________________________________________\n",
            "SMOTE\n",
            "\n",
            "Original dataset shape Counter({0: 52738, 1: 12262})\n",
            "Resampled dataset shape Counter({0: 52738, 1: 26369})\n"
          ],
          "name": "stdout"
        }
      ]
    },
    {
      "cell_type": "code",
      "metadata": {
        "id": "nW12HH9qh9rQ",
        "outputId": "c70f6ff9-af38-4783-e76b-b8608424a31a",
        "colab": {
          "base_uri": "https://localhost:8080/",
          "height": 924
        }
      },
      "source": [
        "#STACKING MODELS =====================================================================\n",
        "print(\"___________________________________________________________________________________________\\nEnsemble Methods Predictions using GradientBoosting, KNeighborsClassifier, LogisticRegression RandomForest and Decision Tree Classifier\\n\")\n",
        "\n",
        "models = [ RandomForestClassifier(), DecisionTreeClassifier(), GradientBoostingClassifier(), KNeighborsClassifier(), LogisticRegression()]\n",
        "      \n",
        "S_Train, S_Test = stacking(models,                   \n",
        "                           X_res, y_res, X_test,   \n",
        "                           regression=False, \n",
        "     \n",
        "                           mode='oof_pred_bag', \n",
        "       \n",
        "                           needs_proba=False,\n",
        "         \n",
        "                           save_dir=None, \n",
        "            \n",
        "                           metric=accuracy_score, \n",
        "    \n",
        "                           n_folds=4, \n",
        "                 \n",
        "                           stratified=True,\n",
        "            \n",
        "                           shuffle=True,  \n",
        "            \n",
        "                           random_state=0,    \n",
        "         \n",
        "                           verbose=2)"
      ],
      "execution_count": 54,
      "outputs": [
        {
          "output_type": "stream",
          "text": [
            "___________________________________________________________________________________________\n",
            "Ensemble Methods Predictions using GradientBoosting, KNeighborsClassifier, LogisticRegression RandomForest and Decision Tree Classifier\n",
            "\n",
            "task:         [classification]\n",
            "n_classes:    [2]\n",
            "metric:       [accuracy_score]\n",
            "mode:         [oof_pred_bag]\n",
            "n_models:     [5]\n",
            "\n",
            "model  0:     [RandomForestClassifier]\n",
            "    fold  0:  [0.93606674]\n",
            "    fold  1:  [0.93504060]\n",
            "    fold  2:  [0.93222683]\n",
            "    fold  3:  [0.93111141]\n",
            "    ----\n",
            "    MEAN:     [0.93361140] + [0.00201484]\n",
            "    FULL:     [0.93361144]\n",
            "\n",
            "model  1:     [DecisionTreeClassifier]\n",
            "    fold  0:  [0.91264388]\n",
            "    fold  1:  [0.91491925]\n",
            "    fold  2:  [0.91040914]\n",
            "    fold  3:  [0.90978450]\n",
            "    ----\n",
            "    MEAN:     [0.91193919] + [0.00202244]\n",
            "    FULL:     [0.91193923]\n",
            "\n",
            "model  2:     [GradientBoostingClassifier]\n",
            "    fold  0:  [0.94391898]\n",
            "    fold  1:  [0.94423128]\n",
            "    fold  2:  [0.94061482]\n",
            "    fold  3:  [0.93865168]\n",
            "    ----\n",
            "    MEAN:     [0.94185419] + [0.00232949]\n",
            "    FULL:     [0.94185424]\n",
            "\n",
            "model  3:     [KNeighborsClassifier]\n",
            "    fold  0:  [0.69617204]\n",
            "    fold  1:  [0.70366735]\n",
            "    fold  2:  [0.69847856]\n",
            "    fold  3:  [0.69896935]\n",
            "    ----\n",
            "    MEAN:     [0.69932182] + [0.00272214]\n",
            "    FULL:     [0.69932184]\n",
            "\n",
            "model  4:     [LogisticRegression]\n",
            "    fold  0:  [0.68176140]\n",
            "    fold  1:  [0.68229678]\n",
            "    fold  2:  [0.67219917]\n",
            "    fold  3:  [0.69495382]\n",
            "    ----\n",
            "    MEAN:     [0.68280279] + [0.00808432]\n",
            "    FULL:     [0.68280278]\n",
            "\n"
          ],
          "name": "stdout"
        }
      ]
    },
    {
      "cell_type": "code",
      "metadata": {
        "id": "-kGCHGTaiGTb"
      },
      "source": [
        "#STACKING - CONTRUCT A GRADIENT BOOSTING MODEL==============================\n",
        "model = GradientBoostingClassifier()\n",
        "    \n",
        "model = model.fit(S_Train, y_res)\n",
        "y_pred = model.predict(S_Test)\n"
      ],
      "execution_count": 55,
      "outputs": []
    },
    {
      "cell_type": "code",
      "metadata": {
        "id": "CKg4i4YTiPqi",
        "outputId": "9e1fcc94-b7ee-436e-a392-3f96e2de5686",
        "colab": {
          "base_uri": "https://localhost:8080/",
          "height": 195
        }
      },
      "source": [
        "#Get Prediction Probability for the predicted class as a dataframe\n",
        "pred_Probability =pd.DataFrame(model.predict_proba(S_Test))\n",
        "\n",
        "pred_Probability.head()"
      ],
      "execution_count": 56,
      "outputs": [
        {
          "output_type": "execute_result",
          "data": {
            "text/html": [
              "<div>\n",
              "<style scoped>\n",
              "    .dataframe tbody tr th:only-of-type {\n",
              "        vertical-align: middle;\n",
              "    }\n",
              "\n",
              "    .dataframe tbody tr th {\n",
              "        vertical-align: top;\n",
              "    }\n",
              "\n",
              "    .dataframe thead th {\n",
              "        text-align: right;\n",
              "    }\n",
              "</style>\n",
              "<table border=\"1\" class=\"dataframe\">\n",
              "  <thead>\n",
              "    <tr style=\"text-align: right;\">\n",
              "      <th></th>\n",
              "      <th>0</th>\n",
              "      <th>1</th>\n",
              "    </tr>\n",
              "  </thead>\n",
              "  <tbody>\n",
              "    <tr>\n",
              "      <th>0</th>\n",
              "      <td>0.978169</td>\n",
              "      <td>0.021831</td>\n",
              "    </tr>\n",
              "    <tr>\n",
              "      <th>1</th>\n",
              "      <td>0.939377</td>\n",
              "      <td>0.060623</td>\n",
              "    </tr>\n",
              "    <tr>\n",
              "      <th>2</th>\n",
              "      <td>0.933813</td>\n",
              "      <td>0.066187</td>\n",
              "    </tr>\n",
              "    <tr>\n",
              "      <th>3</th>\n",
              "      <td>0.978169</td>\n",
              "      <td>0.021831</td>\n",
              "    </tr>\n",
              "    <tr>\n",
              "      <th>4</th>\n",
              "      <td>0.978169</td>\n",
              "      <td>0.021831</td>\n",
              "    </tr>\n",
              "  </tbody>\n",
              "</table>\n",
              "</div>"
            ],
            "text/plain": [
              "          0         1\n",
              "0  0.978169  0.021831\n",
              "1  0.939377  0.060623\n",
              "2  0.933813  0.066187\n",
              "3  0.978169  0.021831\n",
              "4  0.978169  0.021831"
            ]
          },
          "metadata": {
            "tags": []
          },
          "execution_count": 56
        }
      ]
    },
    {
      "cell_type": "code",
      "metadata": {
        "id": "Q39c55RUiWq5",
        "outputId": "86d60f4f-e46d-447b-8fdb-b8cf0be08ffb",
        "colab": {
          "base_uri": "https://localhost:8080/",
          "height": 195
        }
      },
      "source": [
        "#Testset prediction======================================================================\n",
        "#Get Class Prediction as a data frame with header as Prediction\n",
        "pred_model=pd.DataFrame(model.predict(S_Test),columns=[\"Prediction\"] )\n",
        "\n",
        "#Get Class Prediction probabilities as a data frame \n",
        "#Get Prediction Probability for the predicted class as a dataframe\n",
        "pred_model_Probability =pd.DataFrame(model.predict_proba(S_Test))\n",
        "\n",
        "#Write into a file with actual prediction and corresponding probability\n",
        "pd.concat([pred_model,pred_model_Probability],axis=1).to_csv(\"/gdrive/My Drive/Assignment 3/Final_Model2_results.csv\", index = None)\n",
        "\n",
        "res=pd.read_csv('/gdrive/My Drive/Assignment 3/Final_Model2_results.csv')\n",
        "res.head()"
      ],
      "execution_count": 58,
      "outputs": [
        {
          "output_type": "execute_result",
          "data": {
            "text/html": [
              "<div>\n",
              "<style scoped>\n",
              "    .dataframe tbody tr th:only-of-type {\n",
              "        vertical-align: middle;\n",
              "    }\n",
              "\n",
              "    .dataframe tbody tr th {\n",
              "        vertical-align: top;\n",
              "    }\n",
              "\n",
              "    .dataframe thead th {\n",
              "        text-align: right;\n",
              "    }\n",
              "</style>\n",
              "<table border=\"1\" class=\"dataframe\">\n",
              "  <thead>\n",
              "    <tr style=\"text-align: right;\">\n",
              "      <th></th>\n",
              "      <th>Prediction</th>\n",
              "      <th>0</th>\n",
              "      <th>1</th>\n",
              "    </tr>\n",
              "  </thead>\n",
              "  <tbody>\n",
              "    <tr>\n",
              "      <th>0</th>\n",
              "      <td>0</td>\n",
              "      <td>0.978169</td>\n",
              "      <td>0.021831</td>\n",
              "    </tr>\n",
              "    <tr>\n",
              "      <th>1</th>\n",
              "      <td>0</td>\n",
              "      <td>0.939377</td>\n",
              "      <td>0.060623</td>\n",
              "    </tr>\n",
              "    <tr>\n",
              "      <th>2</th>\n",
              "      <td>0</td>\n",
              "      <td>0.933813</td>\n",
              "      <td>0.066187</td>\n",
              "    </tr>\n",
              "    <tr>\n",
              "      <th>3</th>\n",
              "      <td>0</td>\n",
              "      <td>0.978169</td>\n",
              "      <td>0.021831</td>\n",
              "    </tr>\n",
              "    <tr>\n",
              "      <th>4</th>\n",
              "      <td>0</td>\n",
              "      <td>0.978169</td>\n",
              "      <td>0.021831</td>\n",
              "    </tr>\n",
              "  </tbody>\n",
              "</table>\n",
              "</div>"
            ],
            "text/plain": [
              "   Prediction         0         1\n",
              "0           0  0.978169  0.021831\n",
              "1           0  0.939377  0.060623\n",
              "2           0  0.933813  0.066187\n",
              "3           0  0.978169  0.021831\n",
              "4           0  0.978169  0.021831"
            ]
          },
          "metadata": {
            "tags": []
          },
          "execution_count": 58
        }
      ]
    },
    {
      "cell_type": "code",
      "metadata": {
        "id": "ddXUDC0P2GVP",
        "outputId": "fb90e41f-d7c0-4dcf-97f5-d123466c6404",
        "colab": {
          "base_uri": "https://localhost:8080/",
          "height": 34
        }
      },
      "source": [
        "#Gradient Boosting ============================================================\n",
        "search_grid={'n_estimators':[5,10,20, 30, 50],'learning_rate':[0.01,.1]}\n",
        "model =GradientBoostingClassifier()\n",
        "\n",
        "model = model.fit(S_Train, y_res)\n",
        "y_pred = model.predict(S_Test)\n",
        "\n",
        "\n",
        "#Randomized Search for hyperparameter tuning\n",
        "model_random = RandomizedSearchCV(abc,search_grid,n_iter=15)\n",
        "model_random.fit(X_train, y_train)\n",
        "grid_parm_model=model_random.best_params_\n",
        "print(grid_parm_model)"
      ],
      "execution_count": 48,
      "outputs": [
        {
          "output_type": "stream",
          "text": [
            "{'n_estimators': 50, 'learning_rate': 0.1}\n"
          ],
          "name": "stdout"
        }
      ]
    },
    {
      "cell_type": "code",
      "metadata": {
        "id": "KHWPptqTFPhJ"
      },
      "source": [
        "#STACKING - CONSTRUCT A GRADIENT BOOSTING MODEL using best parameter=============================\n",
        "model_hpt =GradientBoostingClassifier(n_estimators= 50, learning_rate=0.1,)\n",
        "    \n",
        "model_hpt = model_hpt.fit(S_Train, y_res)\n",
        "y_pred = model_hpt.predict(S_Test)"
      ],
      "execution_count": 51,
      "outputs": []
    },
    {
      "cell_type": "code",
      "metadata": {
        "id": "1xC0xu_-EiqQ",
        "outputId": "f132bc10-47a8-464d-ba58-804fd8ca97ad",
        "colab": {
          "base_uri": "https://localhost:8080/",
          "height": 195
        }
      },
      "source": [
        "#Testset prediction======================================================================\n",
        "#Get Class Prediction as a data frame with header as Prediction\n",
        "pred_model_hpt=pd.DataFrame(model_hpt.predict(S_Test),columns=[\"Prediction\"] )\n",
        "\n",
        "#Get Class Prediction probabilities as a data frame \n",
        "#Get Prediction Probability for the predicted class as a dataframe\n",
        "pred_model_hpt_Probability =pd.DataFrame(model_hpt.predict_proba(S_Test))\n",
        "\n",
        "#Write into a file with actual prediction and corresponding probability\n",
        "pd.concat([pred_model_hpt,pred_model_hpt_Probability],axis=1).to_csv(\"/gdrive/My Drive/Assignment 3/Final_Model_HPT_results.csv\", index = None)\n",
        "\n",
        "res=pd.read_csv('/gdrive/My Drive/Assignment 3/Final_Model_HPT_results.csv')\n",
        "res.head()"
      ],
      "execution_count": 52,
      "outputs": [
        {
          "output_type": "execute_result",
          "data": {
            "text/html": [
              "<div>\n",
              "<style scoped>\n",
              "    .dataframe tbody tr th:only-of-type {\n",
              "        vertical-align: middle;\n",
              "    }\n",
              "\n",
              "    .dataframe tbody tr th {\n",
              "        vertical-align: top;\n",
              "    }\n",
              "\n",
              "    .dataframe thead th {\n",
              "        text-align: right;\n",
              "    }\n",
              "</style>\n",
              "<table border=\"1\" class=\"dataframe\">\n",
              "  <thead>\n",
              "    <tr style=\"text-align: right;\">\n",
              "      <th></th>\n",
              "      <th>Prediction</th>\n",
              "      <th>0</th>\n",
              "      <th>1</th>\n",
              "    </tr>\n",
              "  </thead>\n",
              "  <tbody>\n",
              "    <tr>\n",
              "      <th>0</th>\n",
              "      <td>0</td>\n",
              "      <td>0.965345</td>\n",
              "      <td>0.034655</td>\n",
              "    </tr>\n",
              "    <tr>\n",
              "      <th>1</th>\n",
              "      <td>0</td>\n",
              "      <td>0.910327</td>\n",
              "      <td>0.089673</td>\n",
              "    </tr>\n",
              "    <tr>\n",
              "      <th>2</th>\n",
              "      <td>0</td>\n",
              "      <td>0.924647</td>\n",
              "      <td>0.075353</td>\n",
              "    </tr>\n",
              "    <tr>\n",
              "      <th>3</th>\n",
              "      <td>0</td>\n",
              "      <td>0.965345</td>\n",
              "      <td>0.034655</td>\n",
              "    </tr>\n",
              "    <tr>\n",
              "      <th>4</th>\n",
              "      <td>0</td>\n",
              "      <td>0.965345</td>\n",
              "      <td>0.034655</td>\n",
              "    </tr>\n",
              "  </tbody>\n",
              "</table>\n",
              "</div>"
            ],
            "text/plain": [
              "   Prediction         0         1\n",
              "0           0  0.965345  0.034655\n",
              "1           0  0.910327  0.089673\n",
              "2           0  0.924647  0.075353\n",
              "3           0  0.965345  0.034655\n",
              "4           0  0.965345  0.034655"
            ]
          },
          "metadata": {
            "tags": []
          },
          "execution_count": 52
        }
      ]
    }
  ]
}